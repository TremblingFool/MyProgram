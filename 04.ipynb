{
 "cells": [
  {
   "cell_type": "code",
   "execution_count": 2,
   "id": "b2d72344-4984-436c-866f-1a80f657d40b",
   "metadata": {},
   "outputs": [
    {
     "name": "stdout",
     "output_type": "stream",
     "text": [
      "642\n",
      "0\n",
      "103041\n",
      "1.0\n",
      "0\n",
      "1\n",
      "103041\n"
     ]
    }
   ],
   "source": [
    "\"\"\"Arithmetic Operators\"\"\"\n",
    "print(321 + 321)\n",
    "print(321 - 321)\n",
    "print(321 * 321)\n",
    "print(321 / 321)\n",
    "print(321 % 321)\n",
    "print(321 // 321)\n",
    "print(321 ** 2)"
   ]
  },
  {
   "cell_type": "code",
   "execution_count": 4,
   "id": "b7e22842-cd39-4d5e-b987-39de0913060f",
   "metadata": {},
   "outputs": [
    {
     "name": "stdout",
     "output_type": "stream",
     "text": [
      "a = 10\n",
      "b = 3\n",
      "a = 13\n",
      "a = 195\n",
      "a = 195\n"
     ]
    }
   ],
   "source": [
    "\"\"\"Assignment Operators\"\"\"\n",
    "a = 10\n",
    "print(\"a = {0}\".format(a))\n",
    "b = 3\n",
    "print(\"b = {0}\".format(b))\n",
    "a += b\n",
    "print(\"a = {0}\".format(a))\n",
    "a *= a + 2\n",
    "print(\"a = {0}\".format(a))\n",
    "print(\"a = {0}\".format(a))"
   ]
  },
  {
   "cell_type": "code",
   "execution_count": 6,
   "id": "ed5b60b8-2d3c-4ddd-896d-c5cf67013c1b",
   "metadata": {},
   "outputs": [
    {
     "name": "stdin",
     "output_type": "stream",
     "text": [
      "Please Enter Fahrenheit Degree: 20\n"
     ]
    },
    {
     "name": "stdout",
     "output_type": "stream",
     "text": [
      "20.0 Fahrenheit Degree = -6.7 Celsius Degree\n"
     ]
    }
   ],
   "source": [
    "\"\"\"Operator Example\"\"\"\n",
    "f = float(input('Please Enter Fahrenheit Degree:'))\n",
    "c = (f - 32) / 1.8\n",
    "print(\"%.1f Fahrenheit Degree = %.1f Celsius Degree\" % (f, c))"
   ]
  },
  {
   "cell_type": "code",
   "execution_count": 9,
   "id": "f0b5ea52-523e-48c7-aa8b-96ca0a3b1deb",
   "metadata": {},
   "outputs": [
    {
     "name": "stdin",
     "output_type": "stream",
     "text": [
      "Please Enter Radius of Circle: 4\n"
     ]
    },
    {
     "name": "stdout",
     "output_type": "stream",
     "text": [
      "Perimeter is 25.13, area is 50.27\n"
     ]
    }
   ],
   "source": [
    "\"\"\"Calculate the area and perimeter of the circle.\"\"\"\n",
    "import math\n",
    "radius = float(input(\"Please Enter Radius of Circle:\"))\n",
    "perimeter = radius * 2 * math.pi\n",
    "area = radius * radius * math.pi\n",
    "print(\"Perimeter is %.2f, area is %.2f\" % (perimeter, area))"
   ]
  },
  {
   "cell_type": "code",
   "execution_count": 17,
   "id": "a95e9e2a-bb47-40fd-b54a-9fd075086001",
   "metadata": {},
   "outputs": [
    {
     "name": "stdin",
     "output_type": "stream",
     "text": [
      "Please Enter a particular year 2000\n"
     ]
    },
    {
     "name": "stdout",
     "output_type": "stream",
     "text": [
      "Leap Year: True\n"
     ]
    }
   ],
   "source": [
    "\"\"\"Judge whether the year is a leap year.\"\"\"\n",
    "year = int(input(\"Please Enter a particular year\"))\n",
    "is_leap_year = year / 4 == 0 and year % 100 != 0 or year % 400 ==0\n",
    "print(\"Leap Year:\", is_leap_year)"
   ]
  },
  {
   "cell_type": "code",
   "execution_count": null,
   "id": "b5e5798e-816a-4f60-a041-5b8df405bb73",
   "metadata": {},
   "outputs": [],
   "source": []
  }
 ],
 "metadata": {
  "kernelspec": {
   "display_name": "Python 3 (ipykernel)",
   "language": "python",
   "name": "python3"
  },
  "language_info": {
   "codemirror_mode": {
    "name": "ipython",
    "version": 3
   },
   "file_extension": ".py",
   "mimetype": "text/x-python",
   "name": "python",
   "nbconvert_exporter": "python",
   "pygments_lexer": "ipython3",
   "version": "3.9.7"
  }
 },
 "nbformat": 4,
 "nbformat_minor": 5
}
