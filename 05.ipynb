{
 "cells": [
  {
   "cell_type": "code",
   "execution_count": 1,
   "id": "ab95b63b-3718-4c21-802f-dc22fdde7b9e",
   "metadata": {},
   "outputs": [
    {
     "name": "stdin",
     "output_type": "stream",
     "text": [
      "Please Enter Your Name: admin\n",
      "Please Enter Your Password: 123456\n"
     ]
    },
    {
     "name": "stdout",
     "output_type": "stream",
     "text": [
      "Verification Successfull!\n"
     ]
    }
   ],
   "source": [
    "\"\"\"if else\"\"\"\n",
    "username = input(\"Please Enter Your Name:\")\n",
    "password = input(\"Please Enter Your Password:\")\n",
    "if username == \"admin\" and password == \"123456\":\n",
    "    print(\"Verification Successfull!\")\n",
    "else:\n",
    "    print(\"Verification Faild!\")"
   ]
  },
  {
   "cell_type": "code",
   "execution_count": 6,
   "id": "fbd0a270-6105-40c9-9763-d6ef8f487d58",
   "metadata": {},
   "outputs": [
    {
     "name": "stdin",
     "output_type": "stream",
     "text": [
      "Please Enter The X: 2\n"
     ]
    },
    {
     "name": "stdout",
     "output_type": "stream",
     "text": [
      "f(2.0) = 1.0\n"
     ]
    }
   ],
   "source": [
    "x = float(input(\"Please Enter The X:\"))\n",
    "if x > 1:\n",
    "    y = 3 * x - 5\n",
    "elif x >= -1 and x <= 1:\n",
    "    y = x + 2\n",
    "else:\n",
    "    y = x * 5 + 3\n",
    "\n",
    "print(f\"f({x}) = {y}\")\n",
    "    "
   ]
  },
  {
   "cell_type": "code",
   "execution_count": 7,
   "id": "369544dc-92af-4941-a302-3a88babba230",
   "metadata": {},
   "outputs": [
    {
     "name": "stdin",
     "output_type": "stream",
     "text": [
      "Please Enter Length: 3\n",
      "Please Enter The Unit: in\n"
     ]
    },
    {
     "name": "stdout",
     "output_type": "stream",
     "text": [
      "3.0in = 7.6cm\n"
     ]
    }
   ],
   "source": [
    "\"\"\"Inch and Centimeter Convert\"\"\"\n",
    "value = float(input(\"Please Enter Length:\"))\n",
    "unit = input(\"Please Enter The Unit:\")\n",
    "if unit == \"in\" or unit == \"英寸\":\n",
    "    result = value * 2.54\n",
    "    print(\"%.1fin = %.1fcm\" % (value, result))\n",
    "elif unit == \"cm\" or unit ==\"厘米\":\n",
    "    result = value / 2.54\n",
    "    print(\"%.1fcm = %.1fin\" % (value, result))\n",
    "else:\n",
    "    print(\"Please Enter Right Value\")"
   ]
  },
  {
   "cell_type": "code",
   "execution_count": 8,
   "id": "28b5e4de-20c8-458b-a9b8-936492a8cc75",
   "metadata": {},
   "outputs": [
    {
     "name": "stdin",
     "output_type": "stream",
     "text": [
      "Please your score: 88\n"
     ]
    },
    {
     "name": "stdout",
     "output_type": "stream",
     "text": [
      "The Score is  B\n"
     ]
    }
   ],
   "source": [
    "\"\"\"Score Value Convert Score Level\"\"\"\n",
    "score = float(input(\"Please your score:\"))\n",
    "if score >= 90:\n",
    "    grade = \"A\"\n",
    "elif score >= 80 and score < 90:\n",
    "    grade = \"B\"\n",
    "elif score >= 70 and score < 80:\n",
    "    grade = \"C\"\n",
    "elif score >= 60 and score < 70:\n",
    "    grade = \"D\"\n",
    "else:\n",
    "    grade = \"E\"\n",
    "\n",
    "print(\"The Score is \", grade)"
   ]
  },
  {
   "cell_type": "code",
   "execution_count": null,
   "id": "cf4b0c2f-791b-4fa6-ba7f-30e222c5548f",
   "metadata": {},
   "outputs": [],
   "source": [
    "\"\"\"Calculate the perimeter and area of the triangle.\"\"\"\n",
    "a = float(input(\"a = \"))\n",
    "b = float(input(\"b = \"))\n",
    "c = float(input(\"c = \"))\n"
   ]
  }
 ],
 "metadata": {
  "kernelspec": {
   "display_name": "Python 3 (ipykernel)",
   "language": "python",
   "name": "python3"
  },
  "language_info": {
   "codemirror_mode": {
    "name": "ipython",
    "version": 3
   },
   "file_extension": ".py",
   "mimetype": "text/x-python",
   "name": "python",
   "nbconvert_exporter": "python",
   "pygments_lexer": "ipython3",
   "version": "3.9.7"
  }
 },
 "nbformat": 4,
 "nbformat_minor": 5
}
